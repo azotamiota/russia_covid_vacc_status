{
 "cells": [
  {
   "cell_type": "code",
   "execution_count": 1,
   "id": "abcef01f",
   "metadata": {},
   "outputs": [],
   "source": [
    "import pandas as pd\n",
    "import geopandas as gpd\n",
    "import matplotlib.pyplot as plt\n",
    "import folium"
   ]
  },
  {
   "cell_type": "code",
   "execution_count": 2,
   "id": "319f87dd",
   "metadata": {},
   "outputs": [],
   "source": [
    "# Load Russian vaccination data (July 2021)\n",
    "df=pd.read_csv('covidrusstates.csv')"
   ]
  },
  {
   "cell_type": "code",
   "execution_count": 3,
   "id": "8d479914",
   "metadata": {},
   "outputs": [],
   "source": [
    "# Clean data\n",
    "df=df[['name','vaccinated','ratio']]\n",
    "df['vaccinated']=df['vaccinated'].apply(lambda x: x.replace(',',''))\n",
    "df['vaccinated']=df['vaccinated'].apply(lambda x: int(x.replace(' ','')))\n",
    "df['ratio']=df['ratio'].apply(lambda x: float(x))\n",
    "df.sort_values('name', ascending=True, inplace=True)"
   ]
  },
  {
   "cell_type": "code",
   "execution_count": 4,
   "id": "5857cedc",
   "metadata": {},
   "outputs": [],
   "source": [
    "# Load Russian Federal Subjects shapefile\n",
    "russia=gpd.read_file('admin_level_4')"
   ]
  },
  {
   "cell_type": "code",
   "execution_count": 5,
   "id": "8ab444eb",
   "metadata": {},
   "outputs": [],
   "source": [
    "# Clean data\n",
    "russia=russia[['name_en','geometry']]\n",
    "russia.sort_values('name_en', ascending=True, inplace=True)"
   ]
  },
  {
   "cell_type": "code",
   "execution_count": 6,
   "id": "c15ccd9b",
   "metadata": {},
   "outputs": [],
   "source": [
    "# Merge maps\n",
    "mergedmap=russia.merge(df, left_on='name_en', right_on='name')"
   ]
  },
  {
   "cell_type": "code",
   "execution_count": 7,
   "id": "2a7b9b6e",
   "metadata": {},
   "outputs": [],
   "source": [
    "# Optimize projection to Russia\n",
    "mergedmap=mergedmap.to_crs(epsg=3576)"
   ]
  },
  {
   "cell_type": "code",
   "execution_count": 8,
   "id": "50993eed",
   "metadata": {},
   "outputs": [],
   "source": [
    "# Load base map\n",
    "basemap = folium.Map(location=(50, 30.428932), zoom_start=2, tiles='stamenwatercolor')"
   ]
  },
  {
   "cell_type": "code",
   "execution_count": 9,
   "id": "7f584ddf",
   "metadata": {},
   "outputs": [
    {
     "data": {
      "text/plain": [
       "<folium.features.Choropleth at 0x15ddafbad30>"
      ]
     },
     "execution_count": 9,
     "metadata": {},
     "output_type": "execute_result"
    }
   ],
   "source": [
    "# Apply data on basemap\n",
    "folium.Choropleth(geo_data=mergedmap, data=mergedmap, key_on='feature.properties.name_en',\n",
    "                  columns=['name_en', 'ratio'], fill_color='Greens', fill_opacity=1,\n",
    "                  legend_name='Rate of vaccination (%)').add_to(basemap)"
   ]
  },
  {
   "cell_type": "code",
   "execution_count": 10,
   "id": "5146bf4b",
   "metadata": {},
   "outputs": [],
   "source": [
    "# Save the map as .html file\n",
    "basemap.save('rusvaccstatus.html')"
   ]
  }
 ],
 "metadata": {
  "kernelspec": {
   "display_name": "Python [conda env:geo]",
   "language": "python",
   "name": "conda-env-geo-py"
  },
  "language_info": {
   "codemirror_mode": {
    "name": "ipython",
    "version": 3
   },
   "file_extension": ".py",
   "mimetype": "text/x-python",
   "name": "python",
   "nbconvert_exporter": "python",
   "pygments_lexer": "ipython3",
   "version": "3.9.6"
  }
 },
 "nbformat": 4,
 "nbformat_minor": 5
}
